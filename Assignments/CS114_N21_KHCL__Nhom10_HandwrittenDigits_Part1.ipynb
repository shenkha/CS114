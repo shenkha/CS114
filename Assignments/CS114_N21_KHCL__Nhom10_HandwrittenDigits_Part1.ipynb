{
  "nbformat": 4,
  "nbformat_minor": 0,
  "metadata": {
    "colab": {
      "provenance": [],
      "toc_visible": true
    },
    "kernelspec": {
      "name": "python3",
      "display_name": "Python 3"
    },
    "language_info": {
      "name": "python"
    }
  },
  "cells": [
    {
      "cell_type": "markdown",
      "source": [
        "# THÔNG TIN NHÓM 10:\n",
        "1. Lê Nguyễn Minh Huy - 20521394\n",
        "2. Lê Gia Khang - 21522189\n",
        "3. Võ Huy Hoàng - 21522103\n",
        "4. Phạm Thị Trâm Anh - 21520146\n",
        "# Bài tập: Lấy dữ liệu của lớp và huấn luyện model.\n",
        "\n",
        "Tài liệu tham khảo: https://scikit-learn.org/stable/auto_examples/classification/plot_digits_classification.html"
      ],
      "metadata": {
        "id": "2y3Qi2BZ-yF-"
      }
    },
    {
      "cell_type": "markdown",
      "source": [
        "# 1. Chạy code có sẵn từ sklearn"
      ],
      "metadata": {
        "id": "rHxvVgxBM4DB"
      }
    },
    {
      "cell_type": "code",
      "source": [
        "# Author: Gael Varoquaux <gael dot varoquaux at normalesup dot org>\n",
        "# License: BSD 3 clause\n",
        "\n",
        "# Standard scientific Python imports\n",
        "import matplotlib.pyplot as plt\n",
        "\n",
        "# Import datasets, classifiers and performance metrics\n",
        "from sklearn import datasets, svm, metrics\n",
        "from sklearn.model_selection import train_test_split"
      ],
      "metadata": {
        "id": "Wq2_k8siM3hR"
      },
      "execution_count": null,
      "outputs": []
    },
    {
      "cell_type": "code",
      "source": [
        "digits = datasets.load_digits()\n",
        "\n",
        "_, axes = plt.subplots(nrows=1, ncols=4, figsize=(10, 3))\n",
        "for ax, image, label in zip(axes, digits.images, digits.target):\n",
        "    ax.set_axis_off()\n",
        "    ax.imshow(image, cmap=plt.cm.gray_r, interpolation=\"nearest\")\n",
        "    ax.set_title(\"Training: %i\" % label)"
      ],
      "metadata": {
        "colab": {
          "base_uri": "https://localhost:8080/",
          "height": 227
        },
        "id": "pQDD0c3-NJX6",
        "outputId": "6ef656e7-1027-4a14-855e-9ca7e177f60f"
      },
      "execution_count": null,
      "outputs": [
        {
          "output_type": "display_data",
          "data": {
            "text/plain": [
              "<Figure size 1000x300 with 4 Axes>"
            ],
            "image/png": "[encoded data removed]"
          },
          "metadata": {}
        }
      ]
    },
    {
      "cell_type": "code",
      "source": [
        "# flatten the images\n",
        "n_samples = len(digits.images)\n",
        "data = digits.images.reshape((n_samples, -1))\n",
        "\n",
        "# Create a classifier: a support vector classifier\n",
        "clf = svm.SVC(gamma=0.001)\n",
        "\n",
        "# Split data into 50% train and 50% test subsets\n",
        "X_train, X_test, y_train, y_test = train_test_split(\n",
        "    data, digits.target, test_size=0.5, shuffle=False\n",
        ")\n"
      ],
      "metadata": {
        "id": "Vd7oPAjlNkr7"
      },
      "execution_count": null,
      "outputs": []
    },
    {
      "cell_type": "code",
      "source": [
        "# Learn the digits on the train subset\n",
        "clf.fit(X_train, y_train)\n",
        "\n",
        "# Predict the value of the digit on the test subset\n",
        "predicted = clf.predict(X_test)"
      ],
      "metadata": {
        "id": "NonK9kEWjXlD"
      },
      "execution_count": null,
      "outputs": []
    },
    {
      "cell_type": "code",
      "source": [
        "_, axes = plt.subplots(nrows=1, ncols=4, figsize=(10, 3))\n",
        "for ax, image, prediction in zip(axes, X_test, predicted):\n",
        "    ax.set_axis_off()\n",
        "    image = image.reshape(8, 8)\n",
        "    ax.imshow(image, cmap=plt.cm.gray_r, interpolation=\"nearest\")\n",
        "    ax.set_title(f\"Prediction: {prediction}\")"
      ],
      "metadata": {
        "id": "2yFU53_7NodM",
        "colab": {
          "base_uri": "https://localhost:8080/",
          "height": 227
        },
        "outputId": "ee91911d-66c9-4aef-8b4b-91c87ae43920"
      },
      "execution_count": null,
      "outputs": [
        {
          "output_type": "display_data",
          "data": {
            "text/plain": [
              "<Figure size 1000x300 with 4 Axes>"
            ],
            "image/png": "[encoded data removed]"
          },
          "metadata": {}
        }
      ]
    },
    {
      "cell_type": "code",
      "source": [
        "print(\n",
        "    f\"Classification report for classifier {clf}:\\n\"\n",
        "    f\"{metrics.classification_report(y_test, predicted)}\\n\"\n",
        ")"
      ],
      "metadata": {
        "colab": {
          "base_uri": "https://localhost:8080/"
        },
        "id": "3_qmzimUNwBe",
        "outputId": "35b8e6c0-8119-4f33-fe9b-b8142a52b06a"
      },
      "execution_count": null,
      "outputs": [
        {
          "output_type": "stream",
          "name": "stdout",
          "text": [
            "Classification report for classifier SVC(gamma=0.001):\n",
            "              precision    recall  f1-score   support\n",
            "\n",
            "           0       1.00      0.99      0.99        88\n",
            "           1       0.99      0.97      0.98        91\n",
            "           2       0.99      0.99      0.99        86\n",
            "           3       0.98      0.87      0.92        91\n",
            "           4       0.99      0.96      0.97        92\n",
            "           5       0.95      0.97      0.96        91\n",
            "           6       0.99      0.99      0.99        91\n",
            "           7       0.96      0.99      0.97        89\n",
            "           8       0.94      1.00      0.97        88\n",
            "           9       0.93      0.98      0.95        92\n",
            "\n",
            "    accuracy                           0.97       899\n",
            "   macro avg       0.97      0.97      0.97       899\n",
            "weighted avg       0.97      0.97      0.97       899\n",
            "\n",
            "\n"
          ]
        }
      ]
    },
    {
      "cell_type": "code",
      "source": [
        "disp = metrics.ConfusionMatrixDisplay.from_predictions(y_test, predicted)\n",
        "disp.figure_.suptitle(\"Confusion Matrix\")\n",
        "print(f\"Confusion matrix:\\n{disp.confusion_matrix}\")\n",
        "\n",
        "plt.show()"
      ],
      "metadata": {
        "colab": {
          "base_uri": "https://localhost:8080/",
          "height": 688
        },
        "id": "vBriZjWzN0cU",
        "outputId": "9e9a94c7-2807-4de1-baa6-bca50a6a829e"
      },
      "execution_count": null,
      "outputs": [
        {
          "output_type": "stream",
          "name": "stdout",
          "text": [
            "Confusion matrix:\n",
            "[[87  0  0  0  1  0  0  0  0  0]\n",
            " [ 0 88  1  0  0  0  0  0  1  1]\n",
            " [ 0  0 85  1  0  0  0  0  0  0]\n",
            " [ 0  0  0 79  0  3  0  4  5  0]\n",
            " [ 0  0  0  0 88  0  0  0  0  4]\n",
            " [ 0  0  0  0  0 88  1  0  0  2]\n",
            " [ 0  1  0  0  0  0 90  0  0  0]\n",
            " [ 0  0  0  0  0  1  0 88  0  0]\n",
            " [ 0  0  0  0  0  0  0  0 88  0]\n",
            " [ 0  0  0  1  0  1  0  0  0 90]]\n"
          ]
        },
        {
          "output_type": "display_data",
          "data": {
            "text/plain": [
              "<Figure size 640x480 with 2 Axes>"
            ],
            "image/png": "[encoded data removed]"
          },
          "metadata": {}
        }
      ]
    },
    {
      "cell_type": "code",
      "source": [
        "# The ground truth and predicted lists\n",
        "y_true = []\n",
        "y_pred = []\n",
        "cm = disp.confusion_matrix\n",
        "\n",
        "# For each cell in the confusion matrix, add the corresponding ground truths\n",
        "# and predictions to the lists\n",
        "for gt in range(len(cm)):\n",
        "    for pred in range(len(cm)):\n",
        "        y_true += [gt] * cm[gt][pred]\n",
        "        y_pred += [pred] * cm[gt][pred]\n",
        "\n",
        "print(\n",
        "    \"Classification report rebuilt from confusion matrix:\\n\"\n",
        "    f\"{metrics.classification_report(y_true, y_pred)}\\n\"\n",
        ")"
      ],
      "metadata": {
        "colab": {
          "base_uri": "https://localhost:8080/"
        },
        "id": "dpPuoP91OVdW",
        "outputId": "67e7fe4a-3780-419b-b90c-1d22477d112c"
      },
      "execution_count": null,
      "outputs": [
        {
          "output_type": "stream",
          "name": "stdout",
          "text": [
            "Classification report rebuilt from confusion matrix:\n",
            "              precision    recall  f1-score   support\n",
            "\n",
            "           0       1.00      0.99      0.99        88\n",
            "           1       0.99      0.97      0.98        91\n",
            "           2       0.99      0.99      0.99        86\n",
            "           3       0.98      0.87      0.92        91\n",
            "           4       0.99      0.96      0.97        92\n",
            "           5       0.95      0.97      0.96        91\n",
            "           6       0.99      0.99      0.99        91\n",
            "           7       0.96      0.99      0.97        89\n",
            "           8       0.94      1.00      0.97        88\n",
            "           9       0.93      0.98      0.95        92\n",
            "\n",
            "    accuracy                           0.97       899\n",
            "   macro avg       0.97      0.97      0.97       899\n",
            "weighted avg       0.97      0.97      0.97       899\n",
            "\n",
            "\n"
          ]
        }
      ]
    },
    {
      "cell_type": "markdown",
      "source": [
        "Nhận xét:\n",
        "- Số 3 thường hay bị nhầm sang số 5, 7 và 8.\n",
        "- Số 4 thường hay bị nhầm sang số 0.\n",
        "\n",
        "Nguyên nhân có thể là do những test đó là đặc biệt, có thể là số đó của một người nào đó viết mà chỉ có người đó mới hiểu."
      ],
      "metadata": {
        "id": "R2RFclXfy2cd"
      }
    },
    {
      "cell_type": "markdown",
      "source": [
        "# 2. Thử dùng model trên để nhận ra số viết tay của mình\n",
        "Data: https://drive.google.com/drive/folders/1b4njikbk64ByHS44ckJ9jVybnGqEAy6j?usp=sharing"
      ],
      "metadata": {
        "id": "73wnIQLNOH0J"
      }
    },
    {
      "cell_type": "markdown",
      "source": [
        "Vì model được huấn luyện trên bộ dữ liệu MNIST nên cần xử lý dữ liệu của nhóm sao cho tương đồng với MNIST.\n",
        "\n",
        "Giới thiệu sơ qua MNIST:\n",
        "- Training: 60,000 examples và Testing: 10,000 examples.\n",
        "- grayscale.\n",
        "- Có kích thước cố định.\n",
        "- Có giá trị từ 0 - 9."
      ],
      "metadata": {
        "id": "-BZ5sH2h_mu2"
      }
    },
    {
      "cell_type": "markdown",
      "source": [
        "## Xử lý dữ liệu"
      ],
      "metadata": {
        "id": "7YyoXTiMR_vO"
      }
    },
    {
      "cell_type": "code",
      "source": [
        "from google.colab import drive\n",
        "drive.mount('/content/drive')"
      ],
      "metadata": {
        "id": "G8mPcKmqRauh",
        "colab": {
          "base_uri": "https://localhost:8080/"
        },
        "outputId": "c6bbcbe7-cd60-4f9d-c6be-ad67a1701b17"
      },
      "execution_count": null,
      "outputs": [
        {
          "output_type": "stream",
          "name": "stdout",
          "text": [
            "Drive already mounted at /content/drive; to attempt to forcibly remount, call drive.mount(\"/content/drive\", force_remount=True).\n"
          ]
        }
      ]
    },
    {
      "cell_type": "markdown",
      "source": [
        "Thư viện cần sử dụng"
      ],
      "metadata": {
        "id": "5g5EJbvzxhTW"
      }
    },
    {
      "cell_type": "code",
      "source": [
        "import os\n",
        "import numpy as np\n",
        "from PIL import Image\n",
        "import matplotlib.pyplot as plt\n",
        "from sklearn import datasets, svm, metrics"
      ],
      "metadata": {
        "id": "AFq7jpIWV4I7"
      },
      "execution_count": null,
      "outputs": []
    },
    {
      "cell_type": "code",
      "source": [
        "!git clone https://github.com/IrisPham74/HandWrittenCS117.git\n"
      ],
      "metadata": {
        "colab": {
          "base_uri": "https://localhost:8080/"
        },
        "id": "tyvI5FJzyPx3",
        "outputId": "6a37d7dd-e1bf-43b2-cf86-05ed423fe1ce"
      },
      "execution_count": null,
      "outputs": [
        {
          "output_type": "stream",
          "name": "stdout",
          "text": [
            "fatal: destination path 'HandWrittenCS117' already exists and is not an empty directory.\n"
          ]
        }
      ]
    },
    {
      "cell_type": "code",
      "source": [
        "# Chuyển đổi các data dạng ảnh thành dạng array\n",
        "def read_data(foder_path, reverse_colors = False):\n",
        "    test_data = []\n",
        "    test_labels = []\n",
        "    new_image_shape = (8, 8) #kích thước mới của anh\n",
        "    #Duyệt qua các thư mục con trong thư mục \"Digits\"\n",
        "    for root, dirs, files in os.walk(folder_path):\n",
        "        for dir_name in dirs:\n",
        "            if dir_name.isdigit():\n",
        "                label = int(dir_name)\n",
        "                #Lấy ảnh trong thư mục có đuôi jpg\n",
        "                for i in range(50):\n",
        "                    file_name = str(i) + \".jpg\"\n",
        "                    file_path = os.path.join(root, dir_name, file_name)\n",
        "                    # Đọc ảnh và chuyển đổi thành mảng numpy\n",
        "                    image = Image.open(file_path).convert(\"L\") #chuyển đổi sang ảnh xám\n",
        "                    # Đảo màu\n",
        "                    if reverse_colors:\n",
        "                        image = Image.eval(image, lambda x: 255 - x)\n",
        "                    image = image.resize(new_image_shape) #resize lại ảnh\n",
        "                    image_array = np.array(image)\n",
        "                    image_scaled = image_array / 255.0 * 16.0\n",
        "                    test_data.append(image_scaled)\n",
        "                    test_labels.append(label)\n",
        "    #Chuyển đổi danh sách thảnh mảng numpy\n",
        "    test_data = np.array(test_data)\n",
        "    test_labels = np.array(test_labels)\n",
        "    #kiểm tra kích thước\n",
        "    print(\"Kích thước dữ liệu kiểm tra:\", test_data.shape)\n",
        "    print(\"Kích thước nhãn kiểm tra:\", test_labels.shape)\n",
        "    return test_data, test_labels"
      ],
      "metadata": {
        "id": "xl4EwOO3UHzQ"
      },
      "execution_count": null,
      "outputs": []
    },
    {
      "cell_type": "markdown",
      "source": [
        "Hiện thị một số test để kiểm tra"
      ],
      "metadata": {
        "id": "H6gKzMUXtDG4"
      }
    },
    {
      "cell_type": "code",
      "source": [
        "def show_img(test_data, test_labels):\n",
        "  #chọn số lượng ảnh hiện thị\n",
        "    num_images = 5\n",
        "    #Lấy ngẫu nhiên ảnh\n",
        "    indices = np.random.choice(test_data.shape[0], num_images, replace=False)\n",
        "    images = test_data[indices]\n",
        "    labels = test_labels[indices]\n",
        "    #hiển thị ảnh và nhãn\n",
        "    fig, axes = plt.subplots(1, num_images, figsize=(12, 3))\n",
        "    for i, ax in enumerate(axes):\n",
        "        ax.imshow(images[i], cmap='gray')\n",
        "        ax.set_title(f\"Label: {labels[i]}\")\n",
        "        ax.axis('off')\n",
        "    plt.tight_layout()\n",
        "    plt.show()"
      ],
      "metadata": {
        "id": "yozYeyEQL7Uu"
      },
      "execution_count": null,
      "outputs": []
    },
    {
      "cell_type": "markdown",
      "source": [
        "## Lấy bộ dữ liệu digits để train"
      ],
      "metadata": {
        "id": "rS3VqtF60BrS"
      }
    },
    {
      "cell_type": "code",
      "source": [
        "digits = datasets.load_digits()\n",
        "# làm phẳng ảnh\n",
        "n_samples = len(digits.images)\n",
        "data = digits.images.reshape((n_samples, -1))\n",
        "\n",
        "# Tạo bộ phân loại: SVM.SVC\n",
        "clf = svm.SVC(gamma=0.001)\n",
        "\n",
        "X_train, y_train = data, digits.target\n",
        "\n",
        "clf.fit(X_train, y_train)"
      ],
      "metadata": {
        "colab": {
          "base_uri": "https://localhost:8080/",
          "height": 74
        },
        "id": "3GS5C2cYVwGc",
        "outputId": "2c9b76fb-6864-4069-ba71-3da6f5c7c5f9"
      },
      "execution_count": null,
      "outputs": [
        {
          "output_type": "execute_result",
          "data": {
            "text/plain": [
              "SVC(gamma=0.001)"
            ],
            "text/html": [
              "<style>#sk-container-id-1 {color: black;background-color: white;}#sk-container-id-1 pre{padding: 0;}#sk-container-id-1 div.sk-toggleable {background-color: white;}#sk-container-id-1 label.sk-toggleable__label {cursor: pointer;display: block;width: 100%;margin-bottom: 0;padding: 0.3em;box-sizing: border-box;text-align: center;}#sk-container-id-1 label.sk-toggleable__label-arrow:before {content: \"▸\";float: left;margin-right: 0.25em;color: #696969;}#sk-container-id-1 label.sk-toggleable__label-arrow:hover:before {color: black;}#sk-container-id-1 div.sk-estimator:hover label.sk-toggleable__label-arrow:before {color: black;}#sk-container-id-1 div.sk-toggleable__content {max-height: 0;max-width: 0;overflow: hidden;text-align: left;background-color: #f0f8ff;}#sk-container-id-1 div.sk-toggleable__content pre {margin: 0.2em;color: black;border-radius: 0.25em;background-color: #f0f8ff;}#sk-container-id-1 input.sk-toggleable__control:checked~div.sk-toggleable__content {max-height: 200px;max-width: 100%;overflow: auto;}#sk-container-id-1 input.sk-toggleable__control:checked~label.sk-toggleable__label-arrow:before {content: \"▾\";}#sk-container-id-1 div.sk-estimator input.sk-toggleable__control:checked~label.sk-toggleable__label {background-color: #d4ebff;}#sk-container-id-1 div.sk-label input.sk-toggleable__control:checked~label.sk-toggleable__label {background-color: #d4ebff;}#sk-container-id-1 input.sk-hidden--visually {border: 0;clip: rect(1px 1px 1px 1px);clip: rect(1px, 1px, 1px, 1px);height: 1px;margin: -1px;overflow: hidden;padding: 0;position: absolute;width: 1px;}#sk-container-id-1 div.sk-estimator {font-family: monospace;background-color: #f0f8ff;border: 1px dotted black;border-radius: 0.25em;box-sizing: border-box;margin-bottom: 0.5em;}#sk-container-id-1 div.sk-estimator:hover {background-color: #d4ebff;}#sk-container-id-1 div.sk-parallel-item::after {content: \"\";width: 100%;border-bottom: 1px solid gray;flex-grow: 1;}#sk-container-id-1 div.sk-label:hover label.sk-toggleable__label {background-color: #d4ebff;}#sk-container-id-1 div.sk-serial::before {content: \"\";position: absolute;border-left: 1px solid gray;box-sizing: border-box;top: 0;bottom: 0;left: 50%;z-index: 0;}#sk-container-id-1 div.sk-serial {display: flex;flex-direction: column;align-items: center;background-color: white;padding-right: 0.2em;padding-left: 0.2em;position: relative;}#sk-container-id-1 div.sk-item {position: relative;z-index: 1;}#sk-container-id-1 div.sk-parallel {display: flex;align-items: stretch;justify-content: center;background-color: white;position: relative;}#sk-container-id-1 div.sk-item::before, #sk-container-id-1 div.sk-parallel-item::before {content: \"\";position: absolute;border-left: 1px solid gray;box-sizing: border-box;top: 0;bottom: 0;left: 50%;z-index: -1;}#sk-container-id-1 div.sk-parallel-item {display: flex;flex-direction: column;z-index: 1;position: relative;background-color: white;}#sk-container-id-1 div.sk-parallel-item:first-child::after {align-self: flex-end;width: 50%;}#sk-container-id-1 div.sk-parallel-item:last-child::after {align-self: flex-start;width: 50%;}#sk-container-id-1 div.sk-parallel-item:only-child::after {width: 0;}#sk-container-id-1 div.sk-dashed-wrapped {border: 1px dashed gray;margin: 0 0.4em 0.5em 0.4em;box-sizing: border-box;padding-bottom: 0.4em;background-color: white;}#sk-container-id-1 div.sk-label label {font-family: monospace;font-weight: bold;display: inline-block;line-height: 1.2em;}#sk-container-id-1 div.sk-label-container {text-align: center;}#sk-container-id-1 div.sk-container {/* jupyter's `normalize.less` sets `[hidden] { display: none; }` but bootstrap.min.css set `[hidden] { display: none !important; }` so we also need the `!important` here to be able to override the default hidden behavior on the sphinx rendered scikit-learn.org. See: https://github.com/scikit-learn/scikit-learn/issues/21755 */display: inline-block !important;position: relative;}#sk-container-id-1 div.sk-text-repr-fallback {display: none;}</style><div id=\"sk-container-id-1\" class=\"sk-top-container\"><div class=\"sk-text-repr-fallback\"><pre>SVC(gamma=0.001)</pre><b>In a Jupyter environment, please rerun this cell to show the HTML representation or trust the notebook. <br />On GitHub, the HTML representation is unable to render, please try loading this page with nbviewer.org.</b></div><div class=\"sk-container\" hidden><div class=\"sk-item\"><div class=\"sk-estimator sk-toggleable\"><input class=\"sk-toggleable__control sk-hidden--visually\" id=\"sk-estimator-id-1\" type=\"checkbox\" checked><label for=\"sk-estimator-id-1\" class=\"sk-toggleable__label sk-toggleable__label-arrow\">SVC</label><div class=\"sk-toggleable__content\"><pre>SVC(gamma=0.001)</pre></div></div></div></div></div>"
            ]
          },
          "metadata": {},
          "execution_count": 6
        }
      ]
    },
    {
      "cell_type": "code",
      "source": [
        "X_train[0]"
      ],
      "metadata": {
        "colab": {
          "base_uri": "https://localhost:8080/"
        },
        "id": "Kqn6EvwQr-dH",
        "outputId": "b48c318a-f86d-49db-a0c5-cabee5b1bc20"
      },
      "execution_count": null,
      "outputs": [
        {
          "output_type": "execute_result",
          "data": {
            "text/plain": [
              "array([ 0.,  0.,  5., 13.,  9.,  1.,  0.,  0.,  0.,  0., 13., 15., 10.,\n",
              "       15.,  5.,  0.,  0.,  3., 15.,  2.,  0., 11.,  8.,  0.,  0.,  4.,\n",
              "       12.,  0.,  0.,  8.,  8.,  0.,  0.,  5.,  8.,  0.,  0.,  9.,  8.,\n",
              "        0.,  0.,  4., 11.,  0.,  1., 12.,  7.,  0.,  0.,  2., 14.,  5.,\n",
              "       10., 12.,  0.,  0.,  0.,  0.,  6., 13., 10.,  0.,  0.,  0.])"
            ]
          },
          "metadata": {},
          "execution_count": 7
        }
      ]
    },
    {
      "cell_type": "markdown",
      "source": [
        "## Test dữ liệu chữ viết tay của lớp"
      ],
      "metadata": {
        "id": "qmt4QfSN0OtW"
      }
    },
    {
      "cell_type": "markdown",
      "source": [
        "Data nhóm sử dụng: https://github.com/IrisPham74/HandWrittenCS117"
      ],
      "metadata": {
        "id": "r8DRk2A_tOTW"
      }
    },
    {
      "cell_type": "code",
      "source": [
        "folder_path = \"/content/HandWrittenCS117\"\n",
        "test_data, test_labels = read_data(folder_path)"
      ],
      "metadata": {
        "colab": {
          "base_uri": "https://localhost:8080/"
        },
        "id": "B22j3MB1wvSB",
        "outputId": "c360793f-28ee-4182-d8c1-7881fc486b02"
      },
      "execution_count": null,
      "outputs": [
        {
          "output_type": "stream",
          "name": "stdout",
          "text": [
            "Kích thước dữ liệu kiểm tra: (500, 8, 8)\n",
            "Kích thước nhãn kiểm tra: (500,)\n"
          ]
        }
      ]
    },
    {
      "cell_type": "code",
      "source": [
        "#hiển thị ảnh của tập digits trên sklean và dữ liệu của nhóm\n",
        "show_img(test_data, test_labels)\n",
        "show_img(digits.images, digits.target)"
      ],
      "metadata": {
        "colab": {
          "base_uri": "https://localhost:8080/",
          "height": 545
        },
        "id": "vJH6Hf2VvkOx",
        "outputId": "4c9e3495-8533-4506-d170-d86e583e38c8"
      },
      "execution_count": null,
      "outputs": [
        {
          "output_type": "display_data",
          "data": {
            "text/plain": [
              "<Figure size 1200x300 with 5 Axes>"
            ],
            "image/png": "[encoded data removed]"
          },
          "metadata": {}
        },
        {
          "output_type": "display_data",
          "data": {
            "text/plain": [
              "<Figure size 1200x300 with 5 Axes>"
            ],
            "image/png": "[encoded data removed]"
          },
          "metadata": {}
        }
      ]
    },
    {
      "cell_type": "markdown",
      "source": [
        "Nhận xét: Ảnh của nhóm bị ngược màu cần phải đảo ngược màu lại lúc đọc ảnh để không bị ngược màu so với ảnh trong bộ digits\n",
        "\n"
      ],
      "metadata": {
        "id": "u4fAgQLOw7sp"
      }
    },
    {
      "cell_type": "code",
      "source": [
        "test_data, test_labels = read_data(folder_path, True)"
      ],
      "metadata": {
        "colab": {
          "base_uri": "https://localhost:8080/"
        },
        "id": "06HXjr-axLIp",
        "outputId": "c27c7643-2c20-4aa9-be91-e181d927bebf"
      },
      "execution_count": null,
      "outputs": [
        {
          "output_type": "stream",
          "name": "stdout",
          "text": [
            "Kích thước dữ liệu kiểm tra: (500, 8, 8)\n",
            "Kích thước nhãn kiểm tra: (500,)\n"
          ]
        }
      ]
    },
    {
      "cell_type": "markdown",
      "source": [
        "Hiển thị lại hình ảnh xem có còn ngược màu không"
      ],
      "metadata": {
        "id": "2T1k9hbbxUqf"
      }
    },
    {
      "cell_type": "code",
      "source": [
        "show_img(test_data, test_labels)\n",
        "show_img(digits.images, digits.target)"
      ],
      "metadata": {
        "colab": {
          "base_uri": "https://localhost:8080/",
          "height": 545
        },
        "id": "p8Rf5ZqixSyv",
        "outputId": "fd418bbf-ba06-489b-ec5d-930a5aef9367"
      },
      "execution_count": null,
      "outputs": [
        {
          "output_type": "display_data",
          "data": {
            "text/plain": [
              "<Figure size 1200x300 with 5 Axes>"
            ],
            "image/png": "[encoded data removed]"
          },
          "metadata": {}
        },
        {
          "output_type": "display_data",
          "data": {
            "text/plain": [
              "<Figure size 1200x300 with 5 Axes>"
            ],
            "image/png": "[encoded data removed]"
          },
          "metadata": {}
        }
      ]
    },
    {
      "cell_type": "markdown",
      "source": [
        "Nhận xét: Đã hết bị ngược màu"
      ],
      "metadata": {
        "id": "rAl1dUV3xZTg"
      }
    },
    {
      "cell_type": "markdown",
      "source": [
        "### Đánh giá"
      ],
      "metadata": {
        "id": "zJkZYt3z0xGL"
      }
    },
    {
      "cell_type": "markdown",
      "source": [
        "Predict dựa vào bộ dữ liệu test"
      ],
      "metadata": {
        "id": "1sO3erGybTfF"
      }
    },
    {
      "cell_type": "code",
      "source": [
        "X_test, y_test = test_data, test_labels\n",
        "X_test = X_test.reshape(X_test.shape[0], -1)\n",
        "# Dự đoán giá trị của chữ số trên tập test\n",
        "predicted = clf.predict(X_test)"
      ],
      "metadata": {
        "id": "32IGW6GpbNsc"
      },
      "execution_count": null,
      "outputs": []
    },
    {
      "cell_type": "markdown",
      "source": [
        "**In confusion matrix**"
      ],
      "metadata": {
        "id": "Ub-CJ_t4bY-j"
      }
    },
    {
      "cell_type": "code",
      "source": [
        "disp = metrics.ConfusionMatrixDisplay.from_predictions(y_test, predicted)\n",
        "disp.figure_.suptitle(\"Confusion Matrix\")\n",
        "print(f\"Confusion matrix:\\n{disp.confusion_matrix}\")\n",
        "\n",
        "plt.show()"
      ],
      "metadata": {
        "colab": {
          "base_uri": "https://localhost:8080/",
          "height": 698
        },
        "id": "n6UQEIXVX8_u",
        "outputId": "fd1a68e2-0f92-4ac0-d461-352f426bc96c"
      },
      "execution_count": null,
      "outputs": [
        {
          "output_type": "stream",
          "name": "stdout",
          "text": [
            "Confusion matrix:\n",
            "[[ 1 10  0  0  9  0  0  0 22  8]\n",
            " [ 0 10  0  0  0  0  0  0 31  9]\n",
            " [ 0  9  2  0  1  0  0  0 30  8]\n",
            " [ 0  7  0  1  1  0  0  0 25 16]\n",
            " [ 0 10  0  0  1  0  0  0 30  9]\n",
            " [ 0  8  0  0  0  0  0  0 13 29]\n",
            " [ 0  4  0  0  1  0  0  0 16 29]\n",
            " [ 0 10  0  0  1  0  0  0 28 11]\n",
            " [ 0 10  0  0  0  0  0  0 32  8]\n",
            " [ 0  7  0  0  0  0  0  0 21 22]]\n"
          ]
        },
        {
          "output_type": "display_data",
          "data": {
            "text/plain": [
              "<Figure size 640x480 with 2 Axes>"
            ],
            "image/png": "[encoded data removed]"
          },
          "metadata": {}
        }
      ]
    },
    {
      "cell_type": "code",
      "source": [
        "print(\n",
        "    f\"Classification report for classifier {clf}:\\n\"\n",
        "    f\"{metrics.classification_report(y_test, predicted)}\\n\"\n",
        ")"
      ],
      "metadata": {
        "colab": {
          "base_uri": "https://localhost:8080/"
        },
        "id": "BsK7OnXiiLbe",
        "outputId": "b3218af4-8cde-4d0c-b139-fb70969bc263"
      },
      "execution_count": null,
      "outputs": [
        {
          "output_type": "stream",
          "name": "stdout",
          "text": [
            "Classification report for classifier SVC(gamma=0.001):\n",
            "              precision    recall  f1-score   support\n",
            "\n",
            "           0       1.00      0.02      0.04        50\n",
            "           1       0.12      0.20      0.15        50\n",
            "           2       1.00      0.04      0.08        50\n",
            "           3       1.00      0.02      0.04        50\n",
            "           4       0.07      0.02      0.03        50\n",
            "           5       0.00      0.00      0.00        50\n",
            "           6       0.00      0.00      0.00        50\n",
            "           7       0.00      0.00      0.00        50\n",
            "           8       0.13      0.64      0.21        50\n",
            "           9       0.15      0.44      0.22        50\n",
            "\n",
            "    accuracy                           0.14       500\n",
            "   macro avg       0.35      0.14      0.08       500\n",
            "weighted avg       0.35      0.14      0.08       500\n",
            "\n",
            "\n"
          ]
        },
        {
          "output_type": "stream",
          "name": "stderr",
          "text": [
            "/usr/local/lib/python3.10/dist-packages/sklearn/metrics/_classification.py:1344: UndefinedMetricWarning: Precision and F-score are ill-defined and being set to 0.0 in labels with no predicted samples. Use `zero_division` parameter to control this behavior.\n",
            "  _warn_prf(average, modifier, msg_start, len(result))\n",
            "/usr/local/lib/python3.10/dist-packages/sklearn/metrics/_classification.py:1344: UndefinedMetricWarning: Precision and F-score are ill-defined and being set to 0.0 in labels with no predicted samples. Use `zero_division` parameter to control this behavior.\n",
            "  _warn_prf(average, modifier, msg_start, len(result))\n",
            "/usr/local/lib/python3.10/dist-packages/sklearn/metrics/_classification.py:1344: UndefinedMetricWarning: Precision and F-score are ill-defined and being set to 0.0 in labels with no predicted samples. Use `zero_division` parameter to control this behavior.\n",
            "  _warn_prf(average, modifier, msg_start, len(result))\n"
          ]
        }
      ]
    },
    {
      "cell_type": "markdown",
      "source": [
        "Kết quả vẫn còn thấp, có thể là do màu nền, dùng thử chuyển đổi ảnh sang grayscale sau đó áp dụng thresholding để làm nổi bật các *nét*\n",
        " folder_v3: https://github.com/Honf03/desktop-tutorial"
      ],
      "metadata": {
        "id": "wFV7PGQTi3k6"
      }
    },
    {
      "cell_type": "markdown",
      "source": [
        "### Bộ dữ liệu đã qua xử lý lần 2"
      ],
      "metadata": {
        "id": "rEGTSmwY1Sqk"
      }
    },
    {
      "cell_type": "markdown",
      "source": [
        "**Chuyển đổi ảnh sang grayscale sau đó áp dụng thresholding để làm nổi bật các nét**"
      ],
      "metadata": {
        "id": "kwowdOeABF2G"
      }
    },
    {
      "cell_type": "code",
      "source": [
        "import os\n",
        "import cv2\n",
        "\n",
        "# Đường dẫn của folder digits_v2 được liên kết với google drive https://drive.google.com/drive/folders/1b4njikbk64ByHS44ckJ9jVybnGqEAy6j?usp=drive_link đã được up\n",
        "# lên github: https://github.com/IrisPham74/HandWrittenCS117\n",
        "folder_v2 = \"/content/drive/MyDrive/TrainData/Data\"\n",
        "\n",
        "# Đường dẫn của folder digits_v2 được liên kết với google drive https://drive.google.com/drive/folders/1Dtka-H10jaoUL3k7A9uw8zrVtTsgfoOb?usp=drive_link đã được up\n",
        "# lên github: https://github.com/Honf03/desktop-tutorial\n",
        "\n",
        "folder_v3 = \"/content/drive/MyDrive/TrainData/Data_2\"\n",
        "\n",
        "# Kiểm tra nếu folder digits_v3 chưa tồn tại thì tạo mới\n",
        "if not os.path.exists(folder_v3):\n",
        "    os.makedirs(folder_v3)\n",
        "\n",
        "# Lặp qua từng folder con trong folder digits_v2\n",
        "for folder_name in os.listdir(folder_v2):\n",
        "    folder_path_v2 = os.path.join(folder_v2, folder_name)\n",
        "    folder_path_v3 = os.path.join(folder_v3, folder_name)\n",
        "\n",
        "    # Kiểm tra nếu folder con đã tồn tại trong folder digits_v3 thì bỏ qua\n",
        "    if os.path.exists(folder_path_v3):\n",
        "        continue\n",
        "\n",
        "    # Tạo folder con trong folder digits_v3\n",
        "    os.makedirs(folder_path_v3)\n",
        "\n",
        "    # Lặp qua từng file ảnh trong folder con\n",
        "    for file_name in os.listdir(folder_path_v2):\n",
        "        if file_name.endswith(\".jpg\"):\n",
        "            file_path_v2 = os.path.join(folder_path_v2, file_name)\n",
        "            file_path_v3 = os.path.join(folder_path_v3, file_name)\n",
        "\n",
        "            # Đọc ảnh từ folder digits_v2\n",
        "            image = cv2.imread(file_path_v2)\n",
        "\n",
        "            # Chuyển đổi ảnh sang grayscale\n",
        "            gray = cv2.cvtColor(image, cv2.COLOR_BGR2GRAY)\n",
        "\n",
        "            # Áp dụng thresholding để làm nổi bật các nét\n",
        "            _, thresholded = cv2.threshold(gray, 127, 255, cv2.THRESH_BINARY_INV + cv2.THRESH_OTSU)\n",
        "\n",
        "            # Lưu ảnh vào folder digits_v3\n",
        "            cv2.imwrite(file_path_v3, thresholded)"
      ],
      "metadata": {
        "id": "SYFMt_aIhh5E"
      },
      "execution_count": null,
      "outputs": []
    },
    {
      "cell_type": "code",
      "source": [
        "!git clone https://github.com/Honf03/desktop-tutorial.git"
      ],
      "metadata": {
        "colab": {
          "base_uri": "https://localhost:8080/"
        },
        "id": "5EZJ95Ts5Brp",
        "outputId": "06e9b363-d3d1-4c69-d7b1-7b5716b13809"
      },
      "execution_count": null,
      "outputs": [
        {
          "output_type": "stream",
          "name": "stdout",
          "text": [
            "Cloning into 'desktop-tutorial'...\n",
            "remote: Enumerating objects: 343, done.\u001b[K\n",
            "remote: Counting objects: 100% (3/3), done.\u001b[K\n",
            "remote: Compressing objects: 100% (2/2), done.\u001b[K\n",
            "remote: Total 343 (delta 0), reused 3 (delta 0), pack-reused 340\u001b[K\n",
            "Receiving objects: 100% (343/343), 97.25 MiB | 19.39 MiB/s, done.\n",
            "Resolving deltas: 100% (13/13), done.\n",
            "Updating files: 100% (511/511), done.\n"
          ]
        }
      ]
    },
    {
      "cell_type": "code",
      "source": [
        "folder_path = \"/content/desktop-tutorial\"\n",
        "test_data, test_labels = read_data(folder_path)"
      ],
      "metadata": {
        "colab": {
          "base_uri": "https://localhost:8080/"
        },
        "id": "0IaO-V-fm5P0",
        "outputId": "d320fb8f-d5c0-47f8-90c3-a449c214f60f"
      },
      "execution_count": null,
      "outputs": [
        {
          "output_type": "stream",
          "name": "stdout",
          "text": [
            "Kích thước dữ liệu kiểm tra: (500, 8, 8)\n",
            "Kích thước nhãn kiểm tra: (500,)\n"
          ]
        }
      ]
    },
    {
      "cell_type": "code",
      "source": [
        "show_img(test_data, test_labels)"
      ],
      "metadata": {
        "colab": {
          "base_uri": "https://localhost:8080/",
          "height": 281
        },
        "id": "CDO4uCNtoKzE",
        "outputId": "9d155890-2094-4845-deb2-4093a3d05835"
      },
      "execution_count": null,
      "outputs": [
        {
          "output_type": "display_data",
          "data": {
            "text/plain": [
              "<Figure size 1200x300 with 5 Axes>"
            ],
            "image/png": "[encoded data removed]"
          },
          "metadata": {}
        }
      ]
    },
    {
      "cell_type": "markdown",
      "source": [
        "### Đánh giá"
      ],
      "metadata": {
        "id": "1VEI7du91hA4"
      }
    },
    {
      "cell_type": "markdown",
      "source": [
        "Test lại"
      ],
      "metadata": {
        "id": "easeMzfnyp__"
      }
    },
    {
      "cell_type": "code",
      "source": [
        "X_test, y_test = test_data, test_labels\n",
        "X_test = X_test.reshape(X_test.shape[0], -1)\n",
        "# Dự đoán giá trị t\n",
        "predicted = clf.predict(X_test)"
      ],
      "metadata": {
        "id": "NtBaF2Oeymxq"
      },
      "execution_count": null,
      "outputs": []
    },
    {
      "cell_type": "code",
      "source": [
        "disp = metrics.ConfusionMatrixDisplay.from_predictions(y_test, predicted)\n",
        "disp.figure_.suptitle(\"Confusion Matrix\")\n",
        "print(f\"Confusion matrix:\\n{disp.confusion_matrix}\")\n",
        "\n",
        "plt.show()"
      ],
      "metadata": {
        "colab": {
          "base_uri": "https://localhost:8080/",
          "height": 698
        },
        "id": "pMVOnuuGyrkB",
        "outputId": "76cd83e5-d111-4b55-9078-a350e6bd6886"
      },
      "execution_count": null,
      "outputs": [
        {
          "output_type": "stream",
          "name": "stdout",
          "text": [
            "Confusion matrix:\n",
            "[[ 2 37  0  0  9  0  0  1  0  1]\n",
            " [ 0 50  0  0  0  0  0  0  0  0]\n",
            " [ 0 34  5  0  6  0  0  1  4  0]\n",
            " [ 0 31  0  4  4  1  0  0  0 10]\n",
            " [ 0 28  0  0 17  0  0  0  0  5]\n",
            " [ 0 37  0  0  1  3  0  0  0  9]\n",
            " [ 0 22  0  0  2  2  0  1 12 11]\n",
            " [ 0 39  0  0  4  0  0  3  4  0]\n",
            " [ 1 33  0  0  2  0  0  0  5  9]\n",
            " [ 0 23  0  0  4  0  0  0  1 22]]\n"
          ]
        },
        {
          "output_type": "display_data",
          "data": {
            "text/plain": [
              "<Figure size 640x480 with 2 Axes>"
            ],
            "image/png": "[encoded data removed]"
          },
          "metadata": {}
        }
      ]
    },
    {
      "cell_type": "code",
      "source": [
        "print(\n",
        "    f\"Classification report for classifier {clf}:\\n\"\n",
        "    f\"{metrics.classification_report(y_test, predicted)}\\n\"\n",
        ")"
      ],
      "metadata": {
        "colab": {
          "base_uri": "https://localhost:8080/"
        },
        "id": "hrOwMsh_yxTs",
        "outputId": "8a74c7ca-48d1-4382-90f5-5cce93df953d"
      },
      "execution_count": null,
      "outputs": [
        {
          "output_type": "stream",
          "name": "stdout",
          "text": [
            "Classification report for classifier SVC(gamma=0.001):\n",
            "              precision    recall  f1-score   support\n",
            "\n",
            "           0       0.67      0.04      0.08        50\n",
            "           1       0.15      1.00      0.26        50\n",
            "           2       1.00      0.10      0.18        50\n",
            "           3       1.00      0.08      0.15        50\n",
            "           4       0.35      0.34      0.34        50\n",
            "           5       0.50      0.06      0.11        50\n",
            "           6       0.00      0.00      0.00        50\n",
            "           7       0.50      0.06      0.11        50\n",
            "           8       0.19      0.10      0.13        50\n",
            "           9       0.33      0.44      0.38        50\n",
            "\n",
            "    accuracy                           0.22       500\n",
            "   macro avg       0.47      0.22      0.17       500\n",
            "weighted avg       0.47      0.22      0.17       500\n",
            "\n",
            "\n"
          ]
        },
        {
          "output_type": "stream",
          "name": "stderr",
          "text": [
            "/usr/local/lib/python3.10/dist-packages/sklearn/metrics/_classification.py:1344: UndefinedMetricWarning: Precision and F-score are ill-defined and being set to 0.0 in labels with no predicted samples. Use `zero_division` parameter to control this behavior.\n",
            "  _warn_prf(average, modifier, msg_start, len(result))\n",
            "/usr/local/lib/python3.10/dist-packages/sklearn/metrics/_classification.py:1344: UndefinedMetricWarning: Precision and F-score are ill-defined and being set to 0.0 in labels with no predicted samples. Use `zero_division` parameter to control this behavior.\n",
            "  _warn_prf(average, modifier, msg_start, len(result))\n",
            "/usr/local/lib/python3.10/dist-packages/sklearn/metrics/_classification.py:1344: UndefinedMetricWarning: Precision and F-score are ill-defined and being set to 0.0 in labels with no predicted samples. Use `zero_division` parameter to control this behavior.\n",
            "  _warn_prf(average, modifier, msg_start, len(result))\n"
          ]
        }
      ]
    }
  ]
}