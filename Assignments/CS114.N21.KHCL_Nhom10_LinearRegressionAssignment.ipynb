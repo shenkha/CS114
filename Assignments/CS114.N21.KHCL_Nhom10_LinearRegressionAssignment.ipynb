{
  "nbformat": 4,
  "nbformat_minor": 0,
  "metadata": {
    "colab": {
      "provenance": [],
      "gpuType": "T4"
    },
    "kernelspec": {
      "name": "python3",
      "display_name": "Python 3"
    },
    "language_info": {
      "name": "python"
    },
    "accelerator": "GPU",
    "gpuClass": "standard"
  },
  "cells": [
    {
      "cell_type": "code",
      "source": [
        "import pandas as pd\n",
        "import numpy as np\n",
        "import sklearn \n",
        "import matplotlib.pyplot as plt\n",
        "import requests\n",
        "from sklearn.metrics import r2_score as R2\n",
        "from sklearn.metrics import mean_squared_error\n",
        "from sklearn.model_selection import train_test_split as mse\n",
        "from sklearn.linear_model import LinearRegression\n",
        "from sklearn.preprocessing import MinMaxScaler\n",
        "from sklearn.preprocessing import LabelEncoder\n",
        "from sklearn.preprocessing import OneHotEncoder\n",
        "min_max_scaler = MinMaxScaler()\n",
        "label_encoder = LabelEncoder()\n",
        "one_hot_encoder = OneHotEncoder(sparse = False)"
      ],
      "metadata": {
        "id": "jLsDtlZ7E8Xh"
      },
      "execution_count": null,
      "outputs": []
    },
    {
      "cell_type": "markdown",
      "source": [
        "##Read training data"
      ],
      "metadata": {
        "id": "oKnrSGlkAGt3"
      }
    },
    {
      "cell_type": "code",
      "source": [
        "data_train = pd.read_csv('https://raw.githubusercontent.com/shenkha/CS114/main/LinearRegressionAssingment01/data2.csv')\n",
        "data_train = data_train.dropna(axis=0, how='all')"
      ],
      "metadata": {
        "id": "i0CrE0RZFLAP"
      },
      "execution_count": 222,
      "outputs": []
    },
    {
      "cell_type": "code",
      "source": [
        "Data_train = data_train.values\n",
        "#Scale data\n",
        "#Min max scaler: X = (X - X_min)/(X_max - X_min)\n",
        "Data_train =  min_max_scaler.fit_transform(Data_train) "
      ],
      "metadata": {
        "id": "9uAljpu3RTbL"
      },
      "execution_count": 223,
      "outputs": []
    },
    {
      "cell_type": "code",
      "source": [
        "X_train = Data_train[:,0].reshape(-1,1)\n",
        "Y_train = Data_train[:,1].reshape(-1,1)"
      ],
      "metadata": {
        "id": "5MKSbz0-LQOf"
      },
      "execution_count": 224,
      "outputs": []
    },
    {
      "cell_type": "code",
      "source": [
        "X_train"
      ],
      "metadata": {
        "colab": {
          "base_uri": "https://localhost:8080/"
        },
        "id": "S_KWq0k-QMBK",
        "outputId": "f408110b-8840-426f-9f59-8816ed1492e9"
      },
      "execution_count": 225,
      "outputs": [
        {
          "output_type": "execute_result",
          "data": {
            "text/plain": [
              "array([[0.60836669],\n",
              "       [0.19541849],\n",
              "       [0.37340693],\n",
              "       ...,\n",
              "       [0.98374759],\n",
              "       [0.94666911],\n",
              "       [0.40806982]])"
            ]
          },
          "metadata": {},
          "execution_count": 225
        }
      ]
    },
    {
      "cell_type": "code",
      "source": [
        "Y_train"
      ],
      "metadata": {
        "colab": {
          "base_uri": "https://localhost:8080/"
        },
        "id": "4bxfvK1KROBz",
        "outputId": "f8f50142-738e-4319-a609-57d57c86b6ff"
      },
      "execution_count": 226,
      "outputs": [
        {
          "output_type": "execute_result",
          "data": {
            "text/plain": [
              "array([[0.53044388],\n",
              "       [0.15515802],\n",
              "       [0.30346543],\n",
              "       ...,\n",
              "       [0.81460862],\n",
              "       [0.78920932],\n",
              "       [0.31964812]])"
            ]
          },
          "metadata": {},
          "execution_count": 226
        }
      ]
    },
    {
      "cell_type": "code",
      "source": [
        "plt.scatter(X_train,Y_train)"
      ],
      "metadata": {
        "colab": {
          "base_uri": "https://localhost:8080/",
          "height": 447
        },
        "id": "d1H6Bwg0ahhc",
        "outputId": "148380c0-9575-4021-8c96-0b04e72e6b59"
      },
      "execution_count": 227,
      "outputs": [
        {
          "output_type": "execute_result",
          "data": {
            "text/plain": [
              "<matplotlib.collections.PathCollection at 0x7ff93d5c3d90>"
            ]
          },
          "metadata": {},
          "execution_count": 227
        },
        {
          "output_type": "display_data",
          "data": {
            "text/plain": [
              "<Figure size 640x480 with 1 Axes>"
            ],
            "image/png": "[encoded data removed]"
          },
          "metadata": {}
        }
      ]
    },
    {
      "cell_type": "code",
      "source": [
        "import numpy as np\n",
        "\n",
        "class LinearRegression_GD:\n",
        "  def __init__(self,eta =0.001,max_iter=200,random_state=21522189):\n",
        "    self.eta = eta\n",
        "    self.max_iter = max_iter\n",
        "    self.random_state = random_state\n",
        "    self.w = np.zeros\n",
        "    self.cost = np.zeros((self.max_iter,1))\n",
        "  \n",
        "  def predict(self,X):\n",
        "    return np.dot(X,self.w)\n",
        "  \n",
        "  def fit(self,X,y):\n",
        "    self.w = np.ones((X.shape[1]+1,1)).reshape(-1,1)\n",
        "    self.w[0] = 0\n",
        "    self.w = self.w\n",
        "    #print(self.w)\n",
        "    #self.w = np.array([0.1,1.,1.,1.,1.1,1])\n",
        "    X = np.hstack((np.ones((X.shape[0],1)),X))\n",
        "    #print(X)\n",
        "    print(X.shape,self.w.shape)\n",
        "    print(y.shape)\n",
        "    self.cost = np.zeros((self.max_iter,1))\n",
        "    for i in range(1,self.max_iter):\n",
        "      #y_pred = self.predict(X)\n",
        "      #r = y_pred - y\n",
        "      r = np.dot(X,self.w) - y\n",
        "      #print(r.shape)\n",
        "      self.cost[i] = 0.5*np.sum(r*r)\n",
        "      self.w = self.w - self.eta*np.dot(X.T,r)\n",
        "      #print(self.cost[i])\n",
        "    self.cost = self.cost[1:]\n",
        "  \n",
        "  \n"
      ],
      "metadata": {
        "id": "XVyUpob9VW-A"
      },
      "execution_count": null,
      "outputs": []
    },
    {
      "cell_type": "code",
      "source": [
        "reg_GD = LinearRegression_GD(eta = 0.000005, max_iter = 500)\n",
        "reg_GD.fit(X_train,Y_train)"
      ],
      "metadata": {
        "colab": {
          "base_uri": "https://localhost:8080/"
        },
        "id": "o5k9zNbZMhHo",
        "outputId": "2ca4bead-1bd5-412b-b9a1-57e79d9b3af6"
      },
      "execution_count": 228,
      "outputs": [
        {
          "output_type": "stream",
          "name": "stdout",
          "text": [
            "(71115, 2) (2, 1)\n",
            "(71115, 1)\n"
          ]
        }
      ]
    },
    {
      "cell_type": "code",
      "source": [
        "print(reg_GD.cost)"
      ],
      "metadata": {
        "colab": {
          "base_uri": "https://localhost:8080/"
        },
        "id": "vnqQzhb_VF-z",
        "outputId": "d2d30431-ea64-49d2-eec3-c31116af6248"
      },
      "execution_count": 229,
      "outputs": [
        {
          "output_type": "stream",
          "name": "stdout",
          "text": [
            "[[328.92542119]\n",
            " [123.49823119]\n",
            " [ 60.55741808]\n",
            " [ 40.65953017]\n",
            " [ 33.79270153]\n",
            " [ 30.89808955]\n",
            " [ 29.24010324]\n",
            " [ 27.9914547 ]\n",
            " [ 26.90082058]\n",
            " [ 25.89076774]\n",
            " [ 24.93641257]\n",
            " [ 24.02879963]\n",
            " [ 23.16384685]\n",
            " [ 22.33900645]\n",
            " [ 21.55225428]\n",
            " [ 20.8017821 ]\n",
            " [ 20.08590196]\n",
            " [ 19.40301488]\n",
            " [ 18.75159893]\n",
            " [ 18.13020335]\n",
            " [ 17.53744453]\n",
            " [ 16.97200272]\n",
            " [ 16.43261902]\n",
            " [ 15.91809254]\n",
            " [ 15.42727775]\n",
            " [ 14.95908192]\n",
            " [ 14.51246265]\n",
            " [ 14.08642561]\n",
            " [ 13.68002227]\n",
            " [ 13.29234783]\n",
            " [ 12.92253916]\n",
            " [ 12.56977294]\n",
            " [ 12.23326378]\n",
            " [ 11.91226247]\n",
            " [ 11.60605434]\n",
            " [ 11.31395766]\n",
            " [ 11.03532211]\n",
            " [ 10.76952733]\n",
            " [ 10.51598158]\n",
            " [ 10.27412035]\n",
            " [ 10.04340518]\n",
            " [  9.82332239]\n",
            " [  9.61338202]\n",
            " [  9.41311663]\n",
            " [  9.22208038]\n",
            " [  9.03984794]\n",
            " [  8.86601358]\n",
            " [  8.7001903 ]\n",
            " [  8.5420089 ]\n",
            " [  8.3911172 ]\n",
            " [  8.24717928]\n",
            " [  8.10987466]\n",
            " [  7.97889766]\n",
            " [  7.85395666]\n",
            " [  7.73477351]\n",
            " [  7.62108285]\n",
            " [  7.51263157]\n",
            " [  7.40917821]\n",
            " [  7.31049245]\n",
            " [  7.21635457]\n",
            " [  7.12655499]\n",
            " [  7.04089378]\n",
            " [  6.95918022]\n",
            " [  6.88123239]\n",
            " [  6.80687674]\n",
            " [  6.73594774]\n",
            " [  6.66828746]\n",
            " [  6.60374528]\n",
            " [  6.54217749]\n",
            " [  6.48344702]\n",
            " [  6.42742311]\n",
            " [  6.37398104]\n",
            " [  6.32300181]\n",
            " [  6.27437194]\n",
            " [  6.22798315]\n",
            " [  6.18373217]\n",
            " [  6.14152047]\n",
            " [  6.10125408]\n",
            " [  6.06284334]\n",
            " [  6.02620274]\n",
            " [  5.9912507 ]\n",
            " [  5.95790942]\n",
            " [  5.92610464]\n",
            " [  5.89576558]\n",
            " [  5.86682467]\n",
            " [  5.8392175 ]\n",
            " [  5.81288258]\n",
            " [  5.7877613 ]\n",
            " [  5.76379772]\n",
            " [  5.74093849]\n",
            " [  5.71913271]\n",
            " [  5.69833184]\n",
            " [  5.67848957]\n",
            " [  5.65956172]\n",
            " [  5.64150615]\n",
            " [  5.62428267]\n",
            " [  5.60785291]\n",
            " [  5.59218032]\n",
            " [  5.57722999]\n",
            " [  5.56296864]\n",
            " [  5.54936451]\n",
            " [  5.53638733]\n",
            " [  5.52400819]\n",
            " [  5.51219953]\n",
            " [  5.50093508]\n",
            " [  5.49018974]\n",
            " [  5.47993959]\n",
            " [  5.47016182]\n",
            " [  5.46083465]\n",
            " [  5.45193731]\n",
            " [  5.44345001]\n",
            " [  5.43535384]\n",
            " [  5.42763078]\n",
            " [  5.42026363]\n",
            " [  5.41323599]\n",
            " [  5.40653222]\n",
            " [  5.40013739]\n",
            " [  5.39403726]\n",
            " [  5.38821825]\n",
            " [  5.38266741]\n",
            " [  5.37737238]\n",
            " [  5.37232136]\n",
            " [  5.36750312]\n",
            " [  5.36290692]\n",
            " [  5.35852254]\n",
            " [  5.35434021]\n",
            " [  5.35035062]\n",
            " [  5.34654489]\n",
            " [  5.34291454]\n",
            " [  5.3394515 ]\n",
            " [  5.33614805]\n",
            " [  5.33299684]\n",
            " [  5.32999085]\n",
            " [  5.32712338]\n",
            " [  5.32438807]\n",
            " [  5.32177881]\n",
            " [  5.31928979]\n",
            " [  5.31691549]\n",
            " [  5.3146506 ]\n",
            " [  5.31249008]\n",
            " [  5.31042913]\n",
            " [  5.30846316]\n",
            " [  5.3065878 ]\n",
            " [  5.30479885]\n",
            " [  5.30309235]\n",
            " [  5.30146449]\n",
            " [  5.29991165]\n",
            " [  5.29843038]\n",
            " [  5.29701736]\n",
            " [  5.29566947]\n",
            " [  5.29438369]\n",
            " [  5.29315717]\n",
            " [  5.29198717]\n",
            " [  5.29087109]\n",
            " [  5.28980644]\n",
            " [  5.28879086]\n",
            " [  5.28782208]\n",
            " [  5.28689794]\n",
            " [  5.28601639]\n",
            " [  5.28517547]\n",
            " [  5.28437331]\n",
            " [  5.28360811]\n",
            " [  5.28287817]\n",
            " [  5.28218187]\n",
            " [  5.28151766]\n",
            " [  5.28088406]\n",
            " [  5.28027966]\n",
            " [  5.27970312]\n",
            " [  5.27915314]\n",
            " [  5.27862851]\n",
            " [  5.27812805]\n",
            " [  5.27765066]\n",
            " [  5.27719527]\n",
            " [  5.27676087]\n",
            " [  5.27634648]\n",
            " [  5.2759512 ]\n",
            " [  5.27557413]\n",
            " [  5.27521443]\n",
            " [  5.27487131]\n",
            " [  5.27454401]\n",
            " [  5.27423179]\n",
            " [  5.27393395]\n",
            " [  5.27364984]\n",
            " [  5.27337883]\n",
            " [  5.2731203 ]\n",
            " [  5.27287369]\n",
            " [  5.27263845]\n",
            " [  5.27241404]\n",
            " [  5.27219998]\n",
            " [  5.27199578]\n",
            " [  5.27180099]\n",
            " [  5.27161518]\n",
            " [  5.27143793]\n",
            " [  5.27126885]\n",
            " [  5.27110756]\n",
            " [  5.27095371]\n",
            " [  5.27080694]\n",
            " [  5.27066694]\n",
            " [  5.27053339]\n",
            " [  5.270406  ]\n",
            " [  5.27028448]\n",
            " [  5.27016855]\n",
            " [  5.27005797]\n",
            " [  5.26995249]\n",
            " [  5.26985186]\n",
            " [  5.26975588]\n",
            " [  5.26966431]\n",
            " [  5.26957697]\n",
            " [  5.26949365]\n",
            " [  5.26941417]\n",
            " [  5.26933836]\n",
            " [  5.26926603]\n",
            " [  5.26919704]\n",
            " [  5.26913124]\n",
            " [  5.26906846]\n",
            " [  5.26900857]\n",
            " [  5.26895145]\n",
            " [  5.26889696]\n",
            " [  5.26884498]\n",
            " [  5.26879539]\n",
            " [  5.26874809]\n",
            " [  5.26870297]\n",
            " [  5.26865993]\n",
            " [  5.26861888]\n",
            " [  5.26857971]\n",
            " [  5.26854235]\n",
            " [  5.26850671]\n",
            " [  5.26847272]\n",
            " [  5.26844029]\n",
            " [  5.26840935]\n",
            " [  5.26837984]\n",
            " [  5.26835169]\n",
            " [  5.26832484]\n",
            " [  5.26829923]\n",
            " [  5.26827479]\n",
            " [  5.26825148]\n",
            " [  5.26822925]\n",
            " [  5.26820804]\n",
            " [  5.26818781]\n",
            " [  5.26816851]\n",
            " [  5.2681501 ]\n",
            " [  5.26813254]\n",
            " [  5.26811578]\n",
            " [  5.2680998 ]\n",
            " [  5.26808456]\n",
            " [  5.26807002]\n",
            " [  5.26805615]\n",
            " [  5.26804292]\n",
            " [  5.26803029]\n",
            " [  5.26801825]\n",
            " [  5.26800677]\n",
            " [  5.26799581]\n",
            " [  5.26798536]\n",
            " [  5.26797539]\n",
            " [  5.26796588]\n",
            " [  5.26795681]\n",
            " [  5.26794815]\n",
            " [  5.2679399 ]\n",
            " [  5.26793202]\n",
            " [  5.26792451]\n",
            " [  5.26791735]\n",
            " [  5.26791051]\n",
            " [  5.26790399]\n",
            " [  5.26789777]\n",
            " [  5.26789184]\n",
            " [  5.26788618]\n",
            " [  5.26788078]\n",
            " [  5.26787563]\n",
            " [  5.26787071]\n",
            " [  5.26786603]\n",
            " [  5.26786156]\n",
            " [  5.26785729]\n",
            " [  5.26785322]\n",
            " [  5.26784934]\n",
            " [  5.26784564]\n",
            " [  5.26784211]\n",
            " [  5.26783874]\n",
            " [  5.26783553]\n",
            " [  5.26783247]\n",
            " [  5.26782954]\n",
            " [  5.26782675]\n",
            " [  5.26782409]\n",
            " [  5.26782155]\n",
            " [  5.26781913]\n",
            " [  5.26781682]\n",
            " [  5.26781462]\n",
            " [  5.26781252]\n",
            " [  5.26781051]\n",
            " [  5.2678086 ]\n",
            " [  5.26780678]\n",
            " [  5.26780504]\n",
            " [  5.26780338]\n",
            " [  5.2678018 ]\n",
            " [  5.26780028]\n",
            " [  5.26779884]\n",
            " [  5.26779747]\n",
            " [  5.26779616]\n",
            " [  5.26779491]\n",
            " [  5.26779372]\n",
            " [  5.26779258]\n",
            " [  5.26779149]\n",
            " [  5.26779046]\n",
            " [  5.26778947]\n",
            " [  5.26778853]\n",
            " [  5.26778763]\n",
            " [  5.26778677]\n",
            " [  5.26778595]\n",
            " [  5.26778517]\n",
            " [  5.26778443]\n",
            " [  5.26778372]\n",
            " [  5.26778304]\n",
            " [  5.26778239]\n",
            " [  5.26778178]\n",
            " [  5.26778119]\n",
            " [  5.26778063]\n",
            " [  5.26778009]\n",
            " [  5.26777958]\n",
            " [  5.2677791 ]\n",
            " [  5.26777863]\n",
            " [  5.26777819]\n",
            " [  5.26777777]\n",
            " [  5.26777736]\n",
            " [  5.26777698]\n",
            " [  5.26777661]\n",
            " [  5.26777626]\n",
            " [  5.26777593]\n",
            " [  5.26777561]\n",
            " [  5.26777531]\n",
            " [  5.26777502]\n",
            " [  5.26777474]\n",
            " [  5.26777448]\n",
            " [  5.26777423]\n",
            " [  5.26777399]\n",
            " [  5.26777376]\n",
            " [  5.26777354]\n",
            " [  5.26777333]\n",
            " [  5.26777313]\n",
            " [  5.26777294]\n",
            " [  5.26777276]\n",
            " [  5.26777259]\n",
            " [  5.26777243]\n",
            " [  5.26777227]\n",
            " [  5.26777212]\n",
            " [  5.26777198]\n",
            " [  5.26777184]\n",
            " [  5.26777171]\n",
            " [  5.26777159]\n",
            " [  5.26777147]\n",
            " [  5.26777136]\n",
            " [  5.26777125]\n",
            " [  5.26777115]\n",
            " [  5.26777105]\n",
            " [  5.26777095]\n",
            " [  5.26777086]\n",
            " [  5.26777078]\n",
            " [  5.2677707 ]\n",
            " [  5.26777062]\n",
            " [  5.26777055]\n",
            " [  5.26777048]\n",
            " [  5.26777041]\n",
            " [  5.26777035]\n",
            " [  5.26777029]\n",
            " [  5.26777023]\n",
            " [  5.26777017]\n",
            " [  5.26777012]\n",
            " [  5.26777007]\n",
            " [  5.26777002]\n",
            " [  5.26776997]\n",
            " [  5.26776993]\n",
            " [  5.26776989]\n",
            " [  5.26776985]\n",
            " [  5.26776981]\n",
            " [  5.26776977]\n",
            " [  5.26776974]\n",
            " [  5.26776971]\n",
            " [  5.26776967]\n",
            " [  5.26776964]\n",
            " [  5.26776962]\n",
            " [  5.26776959]\n",
            " [  5.26776956]\n",
            " [  5.26776954]\n",
            " [  5.26776951]\n",
            " [  5.26776949]\n",
            " [  5.26776947]\n",
            " [  5.26776945]\n",
            " [  5.26776943]\n",
            " [  5.26776941]\n",
            " [  5.26776939]\n",
            " [  5.26776937]\n",
            " [  5.26776936]\n",
            " [  5.26776934]\n",
            " [  5.26776933]\n",
            " [  5.26776931]\n",
            " [  5.2677693 ]\n",
            " [  5.26776929]\n",
            " [  5.26776928]\n",
            " [  5.26776926]\n",
            " [  5.26776925]\n",
            " [  5.26776924]\n",
            " [  5.26776923]\n",
            " [  5.26776922]\n",
            " [  5.26776921]\n",
            " [  5.2677692 ]\n",
            " [  5.2677692 ]\n",
            " [  5.26776919]\n",
            " [  5.26776918]\n",
            " [  5.26776917]\n",
            " [  5.26776917]\n",
            " [  5.26776916]\n",
            " [  5.26776915]\n",
            " [  5.26776915]\n",
            " [  5.26776914]\n",
            " [  5.26776914]\n",
            " [  5.26776913]\n",
            " [  5.26776913]\n",
            " [  5.26776912]\n",
            " [  5.26776912]\n",
            " [  5.26776911]\n",
            " [  5.26776911]\n",
            " [  5.2677691 ]\n",
            " [  5.2677691 ]\n",
            " [  5.2677691 ]\n",
            " [  5.26776909]\n",
            " [  5.26776909]\n",
            " [  5.26776909]\n",
            " [  5.26776908]\n",
            " [  5.26776908]\n",
            " [  5.26776908]\n",
            " [  5.26776907]\n",
            " [  5.26776907]\n",
            " [  5.26776907]\n",
            " [  5.26776907]\n",
            " [  5.26776907]\n",
            " [  5.26776906]\n",
            " [  5.26776906]\n",
            " [  5.26776906]\n",
            " [  5.26776906]\n",
            " [  5.26776906]\n",
            " [  5.26776905]\n",
            " [  5.26776905]\n",
            " [  5.26776905]\n",
            " [  5.26776905]\n",
            " [  5.26776905]\n",
            " [  5.26776905]\n",
            " [  5.26776905]\n",
            " [  5.26776905]\n",
            " [  5.26776904]\n",
            " [  5.26776904]\n",
            " [  5.26776904]\n",
            " [  5.26776904]\n",
            " [  5.26776904]\n",
            " [  5.26776904]\n",
            " [  5.26776904]\n",
            " [  5.26776904]\n",
            " [  5.26776904]\n",
            " [  5.26776904]\n",
            " [  5.26776904]\n",
            " [  5.26776904]\n",
            " [  5.26776903]\n",
            " [  5.26776903]\n",
            " [  5.26776903]\n",
            " [  5.26776903]\n",
            " [  5.26776903]\n",
            " [  5.26776903]\n",
            " [  5.26776903]\n",
            " [  5.26776903]\n",
            " [  5.26776903]\n",
            " [  5.26776903]\n",
            " [  5.26776903]\n",
            " [  5.26776903]\n",
            " [  5.26776903]\n",
            " [  5.26776903]\n",
            " [  5.26776903]\n",
            " [  5.26776903]\n",
            " [  5.26776903]\n",
            " [  5.26776903]\n",
            " [  5.26776903]\n",
            " [  5.26776903]\n",
            " [  5.26776903]\n",
            " [  5.26776903]\n",
            " [  5.26776903]\n",
            " [  5.26776903]\n",
            " [  5.26776903]\n",
            " [  5.26776903]\n",
            " [  5.26776903]\n",
            " [  5.26776903]\n",
            " [  5.26776902]\n",
            " [  5.26776902]\n",
            " [  5.26776902]\n",
            " [  5.26776902]\n",
            " [  5.26776902]\n",
            " [  5.26776902]\n",
            " [  5.26776902]\n",
            " [  5.26776902]\n",
            " [  5.26776902]\n",
            " [  5.26776902]\n",
            " [  5.26776902]\n",
            " [  5.26776902]\n",
            " [  5.26776902]]\n"
          ]
        }
      ]
    },
    {
      "cell_type": "code",
      "source": [
        "print(reg_GD.w)"
      ],
      "metadata": {
        "colab": {
          "base_uri": "https://localhost:8080/"
        },
        "id": "rTMANIjFYYy1",
        "outputId": "d18a14b1-1a38-407e-b046-9c8027f2a21b"
      },
      "execution_count": 230,
      "outputs": [
        {
          "output_type": "stream",
          "name": "stdout",
          "text": [
            "[[-0.01614506]\n",
            " [ 0.85949087]]\n"
          ]
        }
      ]
    },
    {
      "cell_type": "code",
      "source": [
        "plt.plot(range(1, len(reg_GD.cost) + 1), reg_GD.cost)\n",
        "plt.xlabel('Epochs')\n",
        "plt.ylabel('Cost')\n",
        "plt.title('Gradient Descent')\n",
        "plt.show()"
      ],
      "metadata": {
        "colab": {
          "base_uri": "https://localhost:8080/",
          "height": 472
        },
        "id": "Cw07kAVsYedT",
        "outputId": "90304764-e459-4ece-c4bd-d154a95f425b"
      },
      "execution_count": 231,
      "outputs": [
        {
          "output_type": "display_data",
          "data": {
            "text/plain": [
              "<Figure size 640x480 with 1 Axes>"
            ],
            "image/png": "[encoded data removed]"
          },
          "metadata": {}
        }
      ]
    },
    {
      "cell_type": "code",
      "source": [
        "Data_test = pd.read_csv(\"https://raw.githubusercontent.com/shenkha/CS114/main/LinearRegressionAssingment01/data3.csv\").values"
      ],
      "metadata": {
        "id": "xpZGtwaqZA4A"
      },
      "execution_count": 232,
      "outputs": []
    },
    {
      "cell_type": "code",
      "source": [
        "Data_test = min_max_scaler.fit_transform(Data_test)"
      ],
      "metadata": {
        "id": "YF1ng3tuZGMF"
      },
      "execution_count": null,
      "outputs": []
    },
    {
      "cell_type": "code",
      "source": [
        "X_test = Data_test[:,0].reshape(-1,1)\n",
        "Y_test = Data_test[:,1].reshape(-1,1)"
      ],
      "metadata": {
        "id": "4LGYoFf6ZL74"
      },
      "execution_count": null,
      "outputs": []
    },
    {
      "cell_type": "code",
      "source": [
        "plt.scatter(X_test,Y_test)"
      ],
      "metadata": {
        "id": "HNuii0OQbQlL",
        "outputId": "9f86b480-0617-49b2-e77f-8a3d02f97f84",
        "colab": {
          "base_uri": "https://localhost:8080/",
          "height": 447
        }
      },
      "execution_count": null,
      "outputs": [
        {
          "output_type": "execute_result",
          "data": {
            "text/plain": [
              "<matplotlib.collections.PathCollection at 0x7ff93b1e1360>"
            ]
          },
          "metadata": {},
          "execution_count": 215
        },
        {
          "output_type": "display_data",
          "data": {
            "text/plain": [
              "<Figure size 640x480 with 1 Axes>"
            ],
            "image/png": "[encoded data removed]"
          },
          "metadata": {}
        }
      ]
    },
    {
      "cell_type": "code",
      "source": [
        "X_test = np.hstack((np.ones((X_test.shape[0],1)),X_test))"
      ],
      "metadata": {
        "id": "OC9SXAU3ZlZa"
      },
      "execution_count": null,
      "outputs": []
    },
    {
      "cell_type": "code",
      "source": [
        "X_test"
      ],
      "metadata": {
        "colab": {
          "base_uri": "https://localhost:8080/"
        },
        "id": "wjnRRgnNZw1Z",
        "outputId": "c6f0199b-6323-448d-ad62-9fa18bc48843"
      },
      "execution_count": null,
      "outputs": [
        {
          "output_type": "execute_result",
          "data": {
            "text/plain": [
              "array([[1.        , 0.89199785],\n",
              "       [1.        , 0.86987631],\n",
              "       [1.        , 0.83064962],\n",
              "       ...,\n",
              "       [1.        , 0.67610181],\n",
              "       [1.        , 0.06215904],\n",
              "       [1.        , 0.06902105]])"
            ]
          },
          "metadata": {},
          "execution_count": 207
        }
      ]
    },
    {
      "cell_type": "code",
      "source": [
        "Y_test"
      ],
      "metadata": {
        "colab": {
          "base_uri": "https://localhost:8080/"
        },
        "id": "xCNvEUq9Zz0W",
        "outputId": "de141c8f-28e7-4eda-ebed-9dff858f3984"
      },
      "execution_count": null,
      "outputs": [
        {
          "output_type": "execute_result",
          "data": {
            "text/plain": [
              "array([[0.9365933 ],\n",
              "       [0.85990558],\n",
              "       [0.59043094],\n",
              "       ...,\n",
              "       [0.47346468],\n",
              "       [0.0509087 ],\n",
              "       [0.06046936]])"
            ]
          },
          "metadata": {},
          "execution_count": 208
        }
      ]
    },
    {
      "cell_type": "code",
      "source": [
        "y_pred_GD = reg_GD.predict(X_test)\n",
        "print('MSE of GD:', round(mean_squared_error(Y_test, y_pred_GD), 6))"
      ],
      "metadata": {
        "colab": {
          "base_uri": "https://localhost:8080/"
        },
        "id": "N7cKUuQvZ6Rz",
        "outputId": "debbf1b8-82de-43f3-eb5b-8397a2e9d297"
      },
      "execution_count": null,
      "outputs": [
        {
          "output_type": "stream",
          "name": "stdout",
          "text": [
            "MSE of GD: 0.004124\n"
          ]
        }
      ]
    },
    {
      "cell_type": "code",
      "source": [
        "reg_NE = LinearRegression()\n",
        "reg_NE.fit(X_train,Y_train)"
      ],
      "metadata": {
        "colab": {
          "base_uri": "https://localhost:8080/",
          "height": 74
        },
        "id": "oGxC5oMMaDod",
        "outputId": "8fdd1edb-452a-48ad-cb65-c9ac8cd3c613"
      },
      "execution_count": 219,
      "outputs": [
        {
          "output_type": "execute_result",
          "data": {
            "text/plain": [
              "LinearRegression()"
            ],
            "text/html": [
              "<style>#sk-container-id-5 {color: black;background-color: white;}#sk-container-id-5 pre{padding: 0;}#sk-container-id-5 div.sk-toggleable {background-color: white;}#sk-container-id-5 label.sk-toggleable__label {cursor: pointer;display: block;width: 100%;margin-bottom: 0;padding: 0.3em;box-sizing: border-box;text-align: center;}#sk-container-id-5 label.sk-toggleable__label-arrow:before {content: \"▸\";float: left;margin-right: 0.25em;color: #696969;}#sk-container-id-5 label.sk-toggleable__label-arrow:hover:before {color: black;}#sk-container-id-5 div.sk-estimator:hover label.sk-toggleable__label-arrow:before {color: black;}#sk-container-id-5 div.sk-toggleable__content {max-height: 0;max-width: 0;overflow: hidden;text-align: left;background-color: #f0f8ff;}#sk-container-id-5 div.sk-toggleable__content pre {margin: 0.2em;color: black;border-radius: 0.25em;background-color: #f0f8ff;}#sk-container-id-5 input.sk-toggleable__control:checked~div.sk-toggleable__content {max-height: 200px;max-width: 100%;overflow: auto;}#sk-container-id-5 input.sk-toggleable__control:checked~label.sk-toggleable__label-arrow:before {content: \"▾\";}#sk-container-id-5 div.sk-estimator input.sk-toggleable__control:checked~label.sk-toggleable__label {background-color: #d4ebff;}#sk-container-id-5 div.sk-label input.sk-toggleable__control:checked~label.sk-toggleable__label {background-color: #d4ebff;}#sk-container-id-5 input.sk-hidden--visually {border: 0;clip: rect(1px 1px 1px 1px);clip: rect(1px, 1px, 1px, 1px);height: 1px;margin: -1px;overflow: hidden;padding: 0;position: absolute;width: 1px;}#sk-container-id-5 div.sk-estimator {font-family: monospace;background-color: #f0f8ff;border: 1px dotted black;border-radius: 0.25em;box-sizing: border-box;margin-bottom: 0.5em;}#sk-container-id-5 div.sk-estimator:hover {background-color: #d4ebff;}#sk-container-id-5 div.sk-parallel-item::after {content: \"\";width: 100%;border-bottom: 1px solid gray;flex-grow: 1;}#sk-container-id-5 div.sk-label:hover label.sk-toggleable__label {background-color: #d4ebff;}#sk-container-id-5 div.sk-serial::before {content: \"\";position: absolute;border-left: 1px solid gray;box-sizing: border-box;top: 0;bottom: 0;left: 50%;z-index: 0;}#sk-container-id-5 div.sk-serial {display: flex;flex-direction: column;align-items: center;background-color: white;padding-right: 0.2em;padding-left: 0.2em;position: relative;}#sk-container-id-5 div.sk-item {position: relative;z-index: 1;}#sk-container-id-5 div.sk-parallel {display: flex;align-items: stretch;justify-content: center;background-color: white;position: relative;}#sk-container-id-5 div.sk-item::before, #sk-container-id-5 div.sk-parallel-item::before {content: \"\";position: absolute;border-left: 1px solid gray;box-sizing: border-box;top: 0;bottom: 0;left: 50%;z-index: -1;}#sk-container-id-5 div.sk-parallel-item {display: flex;flex-direction: column;z-index: 1;position: relative;background-color: white;}#sk-container-id-5 div.sk-parallel-item:first-child::after {align-self: flex-end;width: 50%;}#sk-container-id-5 div.sk-parallel-item:last-child::after {align-self: flex-start;width: 50%;}#sk-container-id-5 div.sk-parallel-item:only-child::after {width: 0;}#sk-container-id-5 div.sk-dashed-wrapped {border: 1px dashed gray;margin: 0 0.4em 0.5em 0.4em;box-sizing: border-box;padding-bottom: 0.4em;background-color: white;}#sk-container-id-5 div.sk-label label {font-family: monospace;font-weight: bold;display: inline-block;line-height: 1.2em;}#sk-container-id-5 div.sk-label-container {text-align: center;}#sk-container-id-5 div.sk-container {/* jupyter's `normalize.less` sets `[hidden] { display: none; }` but bootstrap.min.css set `[hidden] { display: none !important; }` so we also need the `!important` here to be able to override the default hidden behavior on the sphinx rendered scikit-learn.org. See: https://github.com/scikit-learn/scikit-learn/issues/21755 */display: inline-block !important;position: relative;}#sk-container-id-5 div.sk-text-repr-fallback {display: none;}</style><div id=\"sk-container-id-5\" class=\"sk-top-container\"><div class=\"sk-text-repr-fallback\"><pre>LinearRegression()</pre><b>In a Jupyter environment, please rerun this cell to show the HTML representation or trust the notebook. <br />On GitHub, the HTML representation is unable to render, please try loading this page with nbviewer.org.</b></div><div class=\"sk-container\" hidden><div class=\"sk-item\"><div class=\"sk-estimator sk-toggleable\"><input class=\"sk-toggleable__control sk-hidden--visually\" id=\"sk-estimator-id-5\" type=\"checkbox\" checked><label for=\"sk-estimator-id-5\" class=\"sk-toggleable__label sk-toggleable__label-arrow\">LinearRegression</label><div class=\"sk-toggleable__content\"><pre>LinearRegression()</pre></div></div></div></div></div>"
            ]
          },
          "metadata": {},
          "execution_count": 219
        }
      ]
    },
    {
      "cell_type": "code",
      "source": [
        "y_pred_NE = reg_NE.predict(X_test)\n",
        "print('MSE of NE:', round(mean_squared_error(Y_test, y_pred_NE), 6))"
      ],
      "metadata": {
        "colab": {
          "base_uri": "https://localhost:8080/"
        },
        "id": "hUvmujQ6aGDm",
        "outputId": "89f4f607-0a94-47cc-ef99-8c4234e3a3e7"
      },
      "execution_count": 220,
      "outputs": [
        {
          "output_type": "stream",
          "name": "stdout",
          "text": [
            "MSE of NE: 0.004124\n"
          ]
        }
      ]
    }
  ]
}